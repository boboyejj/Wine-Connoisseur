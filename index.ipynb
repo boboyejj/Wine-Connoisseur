{
 "cells": [
  {
   "cell_type": "markdown",
   "metadata": {
    "colab_type": "text",
    "id": "eFCyIaFwY3-t"
   },
   "source": [
    "#Do You Know How to Choose A Good Wine?\n",
    "**An analysis of wine reviews with location, variety, winery and vintage.**\n",
    "###Author: Phoebe Tai, Jiejia Ye"
   ]
  },
  {
   "cell_type": "markdown",
   "metadata": {
    "colab_type": "text",
    "id": "biJif8yvZ67h"
   },
   "source": [
    "##1. Introduction"
   ]
  },
  {
   "cell_type": "code",
   "execution_count": 0,
   "metadata": {
    "colab": {},
    "colab_type": "code",
    "id": "ijLmrWrqauRh"
   },
   "outputs": [],
   "source": []
  },
  {
   "cell_type": "markdown",
   "metadata": {
    "colab_type": "text",
    "id": "qYGVb4L89YfL"
   },
   "source": [
    "# Set Up Environment\n"
   ]
  },
  {
   "cell_type": "code",
   "execution_count": 0,
   "metadata": {
    "colab": {},
    "colab_type": "code",
    "id": "jw7dp8wI9VJ3"
   },
   "outputs": [],
   "source": [
    "import matplotlib.pyplot as plt\n",
    "import numpy as np\n",
    "import pandas as pd\n",
    "import seaborn as sns\n",
    "\n",
    "from sklearn.ensemble import RandomForestRegressor\n",
    "from sklearn.metrics import mean_squared_error\n",
    "from sklearn.model_selection import train_test_split"
   ]
  },
  {
   "cell_type": "markdown",
   "metadata": {
    "colab_type": "text",
    "id": "n0W6RYH55anD"
   },
   "source": [
    "# Robo Wine Connoisseur\n",
    "\n",
    "In which two college students attempt to put sommeliers out of a job."
   ]
  },
  {
   "cell_type": "code",
   "execution_count": 0,
   "metadata": {
    "colab": {
     "base_uri": "https://localhost:8080/",
     "height": 122
    },
    "colab_type": "code",
    "id": "BhC0JM-Hy0XS",
    "outputId": "84d842be-a602-4afa-c240-22234205c1e7"
   },
   "outputs": [
    {
     "name": "stdout",
     "output_type": "stream",
     "text": [
      "Go to this URL in a browser: https://accounts.google.com/o/oauth2/auth?client_id=947318989803-6bn6qk8qdgf4n4g3pfee6491hc0brc4i.apps.googleusercontent.com&redirect_uri=urn%3Aietf%3Awg%3Aoauth%3A2.0%3Aoob&scope=email%20https%3A%2F%2Fwww.googleapis.com%2Fauth%2Fdocs.test%20https%3A%2F%2Fwww.googleapis.com%2Fauth%2Fdrive%20https%3A%2F%2Fwww.googleapis.com%2Fauth%2Fdrive.photos.readonly%20https%3A%2F%2Fwww.googleapis.com%2Fauth%2Fpeopleapi.readonly&response_type=code\n",
      "\n",
      "Enter your authorization code:\n",
      "··········\n",
      "Mounted at /content/gdrive\n"
     ]
    }
   ],
   "source": [
    "from google.colab import drive\n",
    "\n",
    "drive.mount('/content/gdrive')"
   ]
  },
  {
   "cell_type": "markdown",
   "metadata": {
    "colab_type": "text",
    "id": "r777CUuIy54A"
   },
   "source": [
    "#Exploratory Data Analysis"
   ]
  },
  {
   "cell_type": "markdown",
   "metadata": {
    "colab_type": "text",
    "id": "vxrfiM-O6PUG"
   },
   "source": [
    "Here are the first five rows of the untouched dataset.\n",
    "\n",
    "Right off the bat, we're going to eliminate the Taster Name and Twitter Handle columns, as we want to predict the quality of a wine based on production factors, not reviewers. And one would hope a taster's Twitter handle has no bearing on their opinion of a wine.\n",
    "\n",
    "We are also going to drop the Description column. Although it would have been fun to run these through a natural language processor and see common characteristics of the highest scoring wines, these may be biased by the taster's impression of the wine.\n",
    "  \n",
    "Finally, we'll drop the Designation and Region 2 columns, which specify the exact vineyard and subregion in which the grapes are grown, respectively. These are too specific for our purposes, and, from the dataset description, they often have missing values. The rest of the columns may end up being useful to us, so we'll keep them for now."
   ]
  },
  {
   "cell_type": "code",
   "execution_count": 0,
   "metadata": {
    "colab": {
     "base_uri": "https://localhost:8080/",
     "height": 346
    },
    "colab_type": "code",
    "id": "lpjqirBE4ppe",
    "outputId": "9d878567-1853-4ab2-e50e-a4bc1a4efb6b"
   },
   "outputs": [
    {
     "data": {
      "text/html": [
       "<div>\n",
       "<style scoped>\n",
       "    .dataframe tbody tr th:only-of-type {\n",
       "        vertical-align: middle;\n",
       "    }\n",
       "\n",
       "    .dataframe tbody tr th {\n",
       "        vertical-align: top;\n",
       "    }\n",
       "\n",
       "    .dataframe thead th {\n",
       "        text-align: right;\n",
       "    }\n",
       "</style>\n",
       "<table border=\"1\" class=\"dataframe\">\n",
       "  <thead>\n",
       "    <tr style=\"text-align: right;\">\n",
       "      <th></th>\n",
       "      <th>country</th>\n",
       "      <th>description</th>\n",
       "      <th>designation</th>\n",
       "      <th>points</th>\n",
       "      <th>price</th>\n",
       "      <th>province</th>\n",
       "      <th>region_1</th>\n",
       "      <th>region_2</th>\n",
       "      <th>taster_name</th>\n",
       "      <th>taster_twitter_handle</th>\n",
       "      <th>title</th>\n",
       "      <th>variety</th>\n",
       "      <th>winery</th>\n",
       "    </tr>\n",
       "  </thead>\n",
       "  <tbody>\n",
       "    <tr>\n",
       "      <th>0</th>\n",
       "      <td>Italy</td>\n",
       "      <td>Aromas include tropical fruit, broom, brimston...</td>\n",
       "      <td>Vulkà Bianco</td>\n",
       "      <td>87</td>\n",
       "      <td>NaN</td>\n",
       "      <td>Sicily &amp; Sardinia</td>\n",
       "      <td>Etna</td>\n",
       "      <td>NaN</td>\n",
       "      <td>Kerin O’Keefe</td>\n",
       "      <td>@kerinokeefe</td>\n",
       "      <td>Nicosia 2013 Vulkà Bianco  (Etna)</td>\n",
       "      <td>White Blend</td>\n",
       "      <td>Nicosia</td>\n",
       "    </tr>\n",
       "    <tr>\n",
       "      <th>1</th>\n",
       "      <td>Portugal</td>\n",
       "      <td>This is ripe and fruity, a wine that is smooth...</td>\n",
       "      <td>Avidagos</td>\n",
       "      <td>87</td>\n",
       "      <td>15.0</td>\n",
       "      <td>Douro</td>\n",
       "      <td>NaN</td>\n",
       "      <td>NaN</td>\n",
       "      <td>Roger Voss</td>\n",
       "      <td>@vossroger</td>\n",
       "      <td>Quinta dos Avidagos 2011 Avidagos Red (Douro)</td>\n",
       "      <td>Portuguese Red</td>\n",
       "      <td>Quinta dos Avidagos</td>\n",
       "    </tr>\n",
       "    <tr>\n",
       "      <th>2</th>\n",
       "      <td>US</td>\n",
       "      <td>Tart and snappy, the flavors of lime flesh and...</td>\n",
       "      <td>NaN</td>\n",
       "      <td>87</td>\n",
       "      <td>14.0</td>\n",
       "      <td>Oregon</td>\n",
       "      <td>Willamette Valley</td>\n",
       "      <td>Willamette Valley</td>\n",
       "      <td>Paul Gregutt</td>\n",
       "      <td>@paulgwine</td>\n",
       "      <td>Rainstorm 2013 Pinot Gris (Willamette Valley)</td>\n",
       "      <td>Pinot Gris</td>\n",
       "      <td>Rainstorm</td>\n",
       "    </tr>\n",
       "    <tr>\n",
       "      <th>3</th>\n",
       "      <td>US</td>\n",
       "      <td>Pineapple rind, lemon pith and orange blossom ...</td>\n",
       "      <td>Reserve Late Harvest</td>\n",
       "      <td>87</td>\n",
       "      <td>13.0</td>\n",
       "      <td>Michigan</td>\n",
       "      <td>Lake Michigan Shore</td>\n",
       "      <td>NaN</td>\n",
       "      <td>Alexander Peartree</td>\n",
       "      <td>NaN</td>\n",
       "      <td>St. Julian 2013 Reserve Late Harvest Riesling ...</td>\n",
       "      <td>Riesling</td>\n",
       "      <td>St. Julian</td>\n",
       "    </tr>\n",
       "    <tr>\n",
       "      <th>4</th>\n",
       "      <td>US</td>\n",
       "      <td>Much like the regular bottling from 2012, this...</td>\n",
       "      <td>Vintner's Reserve Wild Child Block</td>\n",
       "      <td>87</td>\n",
       "      <td>65.0</td>\n",
       "      <td>Oregon</td>\n",
       "      <td>Willamette Valley</td>\n",
       "      <td>Willamette Valley</td>\n",
       "      <td>Paul Gregutt</td>\n",
       "      <td>@paulgwine</td>\n",
       "      <td>Sweet Cheeks 2012 Vintner's Reserve Wild Child...</td>\n",
       "      <td>Pinot Noir</td>\n",
       "      <td>Sweet Cheeks</td>\n",
       "    </tr>\n",
       "  </tbody>\n",
       "</table>\n",
       "</div>"
      ],
      "text/plain": [
       "    country                                        description  \\\n",
       "0     Italy  Aromas include tropical fruit, broom, brimston...   \n",
       "1  Portugal  This is ripe and fruity, a wine that is smooth...   \n",
       "2        US  Tart and snappy, the flavors of lime flesh and...   \n",
       "3        US  Pineapple rind, lemon pith and orange blossom ...   \n",
       "4        US  Much like the regular bottling from 2012, this...   \n",
       "\n",
       "                          designation  points  price           province  \\\n",
       "0                        Vulkà Bianco      87    NaN  Sicily & Sardinia   \n",
       "1                            Avidagos      87   15.0              Douro   \n",
       "2                                 NaN      87   14.0             Oregon   \n",
       "3                Reserve Late Harvest      87   13.0           Michigan   \n",
       "4  Vintner's Reserve Wild Child Block      87   65.0             Oregon   \n",
       "\n",
       "              region_1           region_2         taster_name  \\\n",
       "0                 Etna                NaN       Kerin O’Keefe   \n",
       "1                  NaN                NaN          Roger Voss   \n",
       "2    Willamette Valley  Willamette Valley        Paul Gregutt   \n",
       "3  Lake Michigan Shore                NaN  Alexander Peartree   \n",
       "4    Willamette Valley  Willamette Valley        Paul Gregutt   \n",
       "\n",
       "  taster_twitter_handle                                              title  \\\n",
       "0          @kerinokeefe                  Nicosia 2013 Vulkà Bianco  (Etna)   \n",
       "1            @vossroger      Quinta dos Avidagos 2011 Avidagos Red (Douro)   \n",
       "2           @paulgwine       Rainstorm 2013 Pinot Gris (Willamette Valley)   \n",
       "3                   NaN  St. Julian 2013 Reserve Late Harvest Riesling ...   \n",
       "4           @paulgwine   Sweet Cheeks 2012 Vintner's Reserve Wild Child...   \n",
       "\n",
       "          variety               winery  \n",
       "0     White Blend              Nicosia  \n",
       "1  Portuguese Red  Quinta dos Avidagos  \n",
       "2      Pinot Gris            Rainstorm  \n",
       "3        Riesling           St. Julian  \n",
       "4      Pinot Noir         Sweet Cheeks  "
      ]
     },
     "execution_count": 121,
     "metadata": {
      "tags": []
     },
     "output_type": "execute_result"
    }
   ],
   "source": [
    "# Import data\n",
    "wine_data = pd.read_csv('/content/gdrive/My Drive/wine_data.csv', index_col=0)\n",
    "wine_data.head()"
   ]
  },
  {
   "cell_type": "code",
   "execution_count": 0,
   "metadata": {
    "colab": {},
    "colab_type": "code",
    "id": "_TX9tvOk_Bl1"
   },
   "outputs": [],
   "source": [
    "wine_data.drop(['description', 'designation', 'region_2', 'taster_name', 'taster_twitter_handle'], axis=1, inplace=True)"
   ]
  },
  {
   "cell_type": "markdown",
   "metadata": {
    "colab_type": "text",
    "id": "K7VrlXM0_7EU"
   },
   "source": [
    "Now we're going to do some processing to extract the vintage of the wine from the Title column, as this may come in handy when determining quality. This involves a simple regular expression that matches four consecutive integers.\n",
    "\n",
    "Just to be safe, we'll drop any rows with a vintage greater than 2018 (when this tutorial was written!)"
   ]
  },
  {
   "cell_type": "code",
   "execution_count": 0,
   "metadata": {
    "colab": {
     "base_uri": "https://localhost:8080/",
     "height": 195
    },
    "colab_type": "code",
    "id": "P8rci-w3_5y9",
    "outputId": "c9547828-cd19-4910-ee95-58ef3f72c1ce"
   },
   "outputs": [
    {
     "data": {
      "text/html": [
       "<div>\n",
       "<style scoped>\n",
       "    .dataframe tbody tr th:only-of-type {\n",
       "        vertical-align: middle;\n",
       "    }\n",
       "\n",
       "    .dataframe tbody tr th {\n",
       "        vertical-align: top;\n",
       "    }\n",
       "\n",
       "    .dataframe thead th {\n",
       "        text-align: right;\n",
       "    }\n",
       "</style>\n",
       "<table border=\"1\" class=\"dataframe\">\n",
       "  <thead>\n",
       "    <tr style=\"text-align: right;\">\n",
       "      <th></th>\n",
       "      <th>country</th>\n",
       "      <th>points</th>\n",
       "      <th>price</th>\n",
       "      <th>province</th>\n",
       "      <th>region_1</th>\n",
       "      <th>variety</th>\n",
       "      <th>winery</th>\n",
       "      <th>vintage</th>\n",
       "    </tr>\n",
       "  </thead>\n",
       "  <tbody>\n",
       "    <tr>\n",
       "      <th>0</th>\n",
       "      <td>Italy</td>\n",
       "      <td>87</td>\n",
       "      <td>NaN</td>\n",
       "      <td>Sicily &amp; Sardinia</td>\n",
       "      <td>Etna</td>\n",
       "      <td>White Blend</td>\n",
       "      <td>Nicosia</td>\n",
       "      <td>2013.0</td>\n",
       "    </tr>\n",
       "    <tr>\n",
       "      <th>1</th>\n",
       "      <td>Portugal</td>\n",
       "      <td>87</td>\n",
       "      <td>15.0</td>\n",
       "      <td>Douro</td>\n",
       "      <td>NaN</td>\n",
       "      <td>Portuguese Red</td>\n",
       "      <td>Quinta dos Avidagos</td>\n",
       "      <td>2011.0</td>\n",
       "    </tr>\n",
       "    <tr>\n",
       "      <th>2</th>\n",
       "      <td>US</td>\n",
       "      <td>87</td>\n",
       "      <td>14.0</td>\n",
       "      <td>Oregon</td>\n",
       "      <td>Willamette Valley</td>\n",
       "      <td>Pinot Gris</td>\n",
       "      <td>Rainstorm</td>\n",
       "      <td>2013.0</td>\n",
       "    </tr>\n",
       "    <tr>\n",
       "      <th>3</th>\n",
       "      <td>US</td>\n",
       "      <td>87</td>\n",
       "      <td>13.0</td>\n",
       "      <td>Michigan</td>\n",
       "      <td>Lake Michigan Shore</td>\n",
       "      <td>Riesling</td>\n",
       "      <td>St. Julian</td>\n",
       "      <td>2013.0</td>\n",
       "    </tr>\n",
       "    <tr>\n",
       "      <th>4</th>\n",
       "      <td>US</td>\n",
       "      <td>87</td>\n",
       "      <td>65.0</td>\n",
       "      <td>Oregon</td>\n",
       "      <td>Willamette Valley</td>\n",
       "      <td>Pinot Noir</td>\n",
       "      <td>Sweet Cheeks</td>\n",
       "      <td>2012.0</td>\n",
       "    </tr>\n",
       "  </tbody>\n",
       "</table>\n",
       "</div>"
      ],
      "text/plain": [
       "    country  points  price           province             region_1  \\\n",
       "0     Italy      87    NaN  Sicily & Sardinia                 Etna   \n",
       "1  Portugal      87   15.0              Douro                  NaN   \n",
       "2        US      87   14.0             Oregon    Willamette Valley   \n",
       "3        US      87   13.0           Michigan  Lake Michigan Shore   \n",
       "4        US      87   65.0             Oregon    Willamette Valley   \n",
       "\n",
       "          variety               winery  vintage  \n",
       "0     White Blend              Nicosia   2013.0  \n",
       "1  Portuguese Red  Quinta dos Avidagos   2011.0  \n",
       "2      Pinot Gris            Rainstorm   2013.0  \n",
       "3        Riesling           St. Julian   2013.0  \n",
       "4      Pinot Noir         Sweet Cheeks   2012.0  "
      ]
     },
     "execution_count": 123,
     "metadata": {
      "tags": []
     },
     "output_type": "execute_result"
    }
   ],
   "source": [
    "# Extract vintage and drop inaccurate rows\n",
    "wine_data['vintage'] = pd.to_numeric(wine_data['title'].str.extract(' ([0-9]{4}) ', expand=False))\n",
    "wine_data = wine_data[wine_data.vintage <= 2018]\n",
    "\n",
    "# Drop title column\n",
    "wine_data.drop('title', axis=1, inplace=True)\n",
    "wine_data.head()"
   ]
  },
  {
   "cell_type": "markdown",
   "metadata": {
    "colab_type": "text",
    "id": "ZFQl5L4RKBYt"
   },
   "source": [
    "This is looking much better! Finally, let's drop all rows with missing values."
   ]
  },
  {
   "cell_type": "code",
   "execution_count": 0,
   "metadata": {
    "colab": {
     "base_uri": "https://localhost:8080/",
     "height": 195
    },
    "colab_type": "code",
    "id": "qya-PpcjdBM6",
    "outputId": "196b53d7-ce0f-4754-fb82-601830f8e609"
   },
   "outputs": [
    {
     "data": {
      "text/html": [
       "<div>\n",
       "<style scoped>\n",
       "    .dataframe tbody tr th:only-of-type {\n",
       "        vertical-align: middle;\n",
       "    }\n",
       "\n",
       "    .dataframe tbody tr th {\n",
       "        vertical-align: top;\n",
       "    }\n",
       "\n",
       "    .dataframe thead th {\n",
       "        text-align: right;\n",
       "    }\n",
       "</style>\n",
       "<table border=\"1\" class=\"dataframe\">\n",
       "  <thead>\n",
       "    <tr style=\"text-align: right;\">\n",
       "      <th></th>\n",
       "      <th>country</th>\n",
       "      <th>points</th>\n",
       "      <th>price</th>\n",
       "      <th>province</th>\n",
       "      <th>region_1</th>\n",
       "      <th>variety</th>\n",
       "      <th>winery</th>\n",
       "      <th>vintage</th>\n",
       "    </tr>\n",
       "  </thead>\n",
       "  <tbody>\n",
       "    <tr>\n",
       "      <th>2</th>\n",
       "      <td>US</td>\n",
       "      <td>87</td>\n",
       "      <td>14.0</td>\n",
       "      <td>Oregon</td>\n",
       "      <td>Willamette Valley</td>\n",
       "      <td>Pinot Gris</td>\n",
       "      <td>Rainstorm</td>\n",
       "      <td>2013.0</td>\n",
       "    </tr>\n",
       "    <tr>\n",
       "      <th>3</th>\n",
       "      <td>US</td>\n",
       "      <td>87</td>\n",
       "      <td>13.0</td>\n",
       "      <td>Michigan</td>\n",
       "      <td>Lake Michigan Shore</td>\n",
       "      <td>Riesling</td>\n",
       "      <td>St. Julian</td>\n",
       "      <td>2013.0</td>\n",
       "    </tr>\n",
       "    <tr>\n",
       "      <th>4</th>\n",
       "      <td>US</td>\n",
       "      <td>87</td>\n",
       "      <td>65.0</td>\n",
       "      <td>Oregon</td>\n",
       "      <td>Willamette Valley</td>\n",
       "      <td>Pinot Noir</td>\n",
       "      <td>Sweet Cheeks</td>\n",
       "      <td>2012.0</td>\n",
       "    </tr>\n",
       "    <tr>\n",
       "      <th>5</th>\n",
       "      <td>Spain</td>\n",
       "      <td>87</td>\n",
       "      <td>15.0</td>\n",
       "      <td>Northern Spain</td>\n",
       "      <td>Navarra</td>\n",
       "      <td>Tempranillo-Merlot</td>\n",
       "      <td>Tandem</td>\n",
       "      <td>2011.0</td>\n",
       "    </tr>\n",
       "    <tr>\n",
       "      <th>6</th>\n",
       "      <td>Italy</td>\n",
       "      <td>87</td>\n",
       "      <td>16.0</td>\n",
       "      <td>Sicily &amp; Sardinia</td>\n",
       "      <td>Vittoria</td>\n",
       "      <td>Frappato</td>\n",
       "      <td>Terre di Giurfo</td>\n",
       "      <td>2013.0</td>\n",
       "    </tr>\n",
       "  </tbody>\n",
       "</table>\n",
       "</div>"
      ],
      "text/plain": [
       "  country  points  price           province             region_1  \\\n",
       "2      US      87   14.0             Oregon    Willamette Valley   \n",
       "3      US      87   13.0           Michigan  Lake Michigan Shore   \n",
       "4      US      87   65.0             Oregon    Willamette Valley   \n",
       "5   Spain      87   15.0     Northern Spain              Navarra   \n",
       "6   Italy      87   16.0  Sicily & Sardinia             Vittoria   \n",
       "\n",
       "              variety           winery  vintage  \n",
       "2          Pinot Gris        Rainstorm   2013.0  \n",
       "3            Riesling       St. Julian   2013.0  \n",
       "4          Pinot Noir     Sweet Cheeks   2012.0  \n",
       "5  Tempranillo-Merlot           Tandem   2011.0  \n",
       "6            Frappato  Terre di Giurfo   2013.0  "
      ]
     },
     "execution_count": 124,
     "metadata": {
      "tags": []
     },
     "output_type": "execute_result"
    }
   ],
   "source": [
    "# Drop missing values\n",
    "wine_data.dropna(inplace=True)\n",
    "wine_data.head()"
   ]
  },
  {
   "cell_type": "markdown",
   "metadata": {
    "colab_type": "text",
    "id": "PFNyA5hqe94B"
   },
   "source": [
    "Let's try to get a handle on what our data looks like visually, since ~130k wine reviews is not very easily conceptualized. We'll start by plotting the distributions of the two (arguably) most important variables--points and price. We'll also take a look at how they correlate with each other. We expect to get what we pay for, after all!"
   ]
  },
  {
   "cell_type": "code",
   "execution_count": 0,
   "metadata": {
    "colab": {
     "base_uri": "https://localhost:8080/",
     "height": 1784
    },
    "colab_type": "code",
    "id": "9gqNz-JVdNI1",
    "outputId": "a91c66e0-a5e8-4737-a84f-7c258dbca2d2"
   },
   "outputs": [
    {
     "data": {
      "image/png": "[encoded data removed]",
      "text/plain": [
       "<matplotlib.figure.Figure at 0x7fb04674e400>"
      ]
     },
     "metadata": {
      "tags": []
     },
     "output_type": "display_data"
    },
    {
     "data": {
      "image/png": "[encoded data removed]",
      "text/plain": [
       "<matplotlib.figure.Figure at 0x7fb0466fe320>"
      ]
     },
     "metadata": {
      "tags": []
     },
     "output_type": "display_data"
    },
    {
     "data": {
      "image/png": "[encoded data removed]",
      "text/plain": [
       "<matplotlib.figure.Figure at 0x7fb043e53518>"
      ]
     },
     "metadata": {
      "tags": []
     },
     "output_type": "display_data"
    },
    {
     "data": {
      "image/png": "[encoded data removed]",
      "text/plain": [
       "<matplotlib.figure.Figure at 0x7fb043e61668>"
      ]
     },
     "metadata": {
      "tags": []
     },
     "output_type": "display_data"
    },
    {
     "data": {
      "image/png": "[encoded data removed]",
      "text/plain": [
       "<matplotlib.figure.Figure at 0x7fb046706f28>"
      ]
     },
     "metadata": {
      "tags": []
     },
     "output_type": "display_data"
    }
   ],
   "source": [
    "# Plot points histogram\n",
    "plt.hist(wine_data['points'], bins=20)\n",
    "plt.title('Wine Score Distribution')\n",
    "plt.xlabel('Points')\n",
    "plt.ylabel('Frequency')\n",
    "plt.show()\n",
    "\n",
    "# Plot points violinplot\n",
    "plt.axes().violinplot(wine_data['points'], showmedians=True)\n",
    "plt.title('Wine Scores')\n",
    "plt.ylabel('Points')\n",
    "plt.show()\n",
    "\n",
    "# Plot price histogram\n",
    "plt.hist(wine_data['price'], bins=20)\n",
    "plt.title('Wine Price Distribution')\n",
    "plt.xlabel('Price')\n",
    "plt.ylabel('Frequency')\n",
    "plt.show()\n",
    "\n",
    "# Plot price violinplot\n",
    "plt.axes().violinplot(wine_data['price'], showmedians=True)\n",
    "plt.title('Wine Prices')\n",
    "plt.ylabel('Price')\n",
    "plt.show()\n",
    "\n",
    "# Plot points vs price\n",
    "plt.scatter(wine_data['price'], wine_data['points'])\n",
    "plt.title('Points vs. Price')\n",
    "plt.xlabel('Price')\n",
    "plt.ylabel('Points')\n",
    "plt.show()"
   ]
  },
  {
   "cell_type": "markdown",
   "metadata": {
    "colab_type": "text",
    "id": "nZORPjpurPUN"
   },
   "source": [
    "There are quite a few things to note here. First, the wine scores have an approximately normal distribution, which is about what we'd expect. The author of this dataset noted that Wine Enthusiast Magazine (the source of these reviews) doesn't publish reviews of wines that receive fewer than 80 points, which is why the range of these values only runs from 80 to 100.\n",
    "\n",
    "Secondly, the price histogram is looking a little...odd. Upon closer examination of the corresponding violin plot, we can see that at least one data point is throwing off our graphs, with a whopping price of about $3,500! The vast majority of wines reviewed are more reasonably priced, rarely exceeding 250 per bottle.\n",
    "\n",
    "The final scatter plot is perhaps the most revealing. It shows that while expensive wines are more likely to get high scores, cheaper wines are certainly capable of scoring just as well.\n",
    "\n",
    "Just for fun, let's see where most of our wines originate from!"
   ]
  },
  {
   "cell_type": "markdown",
   "metadata": {
    "colab_type": "text",
    "id": "3K2snh3T5Hft"
   },
   "source": [
    "#The Most Popular Series\n"
   ]
  },
  {
   "cell_type": "code",
   "execution_count": 0,
   "metadata": {
    "colab": {
     "base_uri": "https://localhost:8080/",
     "height": 34
    },
    "colab_type": "code",
    "id": "r54cZC7_GHcY",
    "outputId": "ee7a44c9-5344-4f1c-d79c-8bcfdbd940cd"
   },
   "outputs": [
    {
     "name": "stdout",
     "output_type": "stream",
     "text": [
      "{'country': 7, 'province': 62, 'region': 1194, 'variety': 500, 'winery': 13394}\n"
     ]
    }
   ],
   "source": [
    "# Have a general idea about how the data looks like\n",
    "wine_data.country.unique().size\n",
    "wine_data.province.unique().size\n",
    "wine_data.region_1.unique().size\n",
    "wine_data.variety.unique().size\n",
    "wine_data.winery.unique().size\n",
    "count = {'country':wine_data.country.unique().size, 'province': wine_data.province.unique().size, 'region':wine_data.region_1.unique().size,\n",
    "        'variety': wine_data.variety.unique().size, 'winery':wine_data.winery.unique().size}\n",
    "print(count)"
   ]
  },
  {
   "cell_type": "markdown",
   "metadata": {
    "colab_type": "text",
    "id": "FzlsD_8PKqdj"
   },
   "source": []
  },
  {
   "cell_type": "markdown",
   "metadata": {
    "colab_type": "text",
    "id": "FD9xMqozGbsq"
   },
   "source": [
    "## The most popular wine by country of origin"
   ]
  },
  {
   "cell_type": "code",
   "execution_count": 0,
   "metadata": {
    "colab": {
     "base_uri": "https://localhost:8080/",
     "height": 376
    },
    "colab_type": "code",
    "id": "_WQiqvyf1r3k",
    "outputId": "bb7077bd-6dad-4063-9cce-f5601712c433"
   },
   "outputs": [
    {
     "data": {
      "image/png": "[encoded data removed]",
      "text/plain": [
       "<matplotlib.figure.Figure at 0x7fb043d77eb8>"
      ]
     },
     "metadata": {
      "tags": []
     },
     "output_type": "display_data"
    }
   ],
   "source": [
    "# Group data by country and count occurrences\n",
    "countries = wine_data.groupby('country').size().reset_index()\n",
    "countries.columns = ['country', 'count']\n",
    "countries = countries.sort_values('count',ascending=False)\n",
    "xpose = countries['country']\n",
    "ypose = countries['count']\n",
    "\n",
    "# Plot bar graph\n",
    "plt.bar(range(len(xpose)), list(map(float,ypose)), align = 'center')\n",
    "plt.xticks(range(len(xpose)), xpose)\n",
    "plt.title('Wines by Country of Origin')\n",
    "plt.xlabel('Country')\n",
    "plt.ylabel('Frequency')\n",
    "plt.show()"
   ]
  },
  {
   "cell_type": "markdown",
   "metadata": {
    "colab_type": "text",
    "id": "AOOCXsk2IJ1H"
   },
   "source": [
    "## The most popular wine by province of origin"
   ]
  },
  {
   "cell_type": "code",
   "execution_count": 0,
   "metadata": {
    "colab": {
     "base_uri": "https://localhost:8080/",
     "height": 349
    },
    "colab_type": "code",
    "id": "EkM9ngE8IPci",
    "outputId": "2801992a-7344-4e2c-b947-44890578d792"
   },
   "outputs": [
    {
     "data": {
      "image/png": "[encoded data removed]",
      "text/plain": [
       "<matplotlib.figure.Figure at 0x7fb043b02c88>"
      ]
     },
     "metadata": {
      "tags": []
     },
     "output_type": "display_data"
    }
   ],
   "source": [
    "province = wine_data.groupby('province').size().reset_index()\n",
    "province.columns = ['province', 'count']\n",
    "province = province.sort_values('count',ascending=False)\n",
    "xpose = province['province'][:10]\n",
    "ypose =province['count'][:10]\n",
    "\n",
    "# Plot bar graph\n",
    "plt.figure(figsize=(15, 5))\n",
    "plt.bar(range(len(xpose)), list(map(float,ypose)), align = 'center')\n",
    "plt.xticks(range(len(xpose)), xpose)\n",
    "plt.title('Wines by province of Origin')\n",
    "plt.xlabel('province')\n",
    "plt.ylabel('Frequency')\n",
    "plt.show()"
   ]
  },
  {
   "cell_type": "markdown",
   "metadata": {
    "colab_type": "text",
    "id": "juZYoAUQCxbT"
   },
   "source": [
    "Seems like the majority of them are from the United States, with France and Italy vying for second and third place."
   ]
  },
  {
   "cell_type": "markdown",
   "metadata": {
    "colab_type": "text",
    "id": "qt2TqV4D5Quh"
   },
   "source": [
    "## The Most Popular Variety"
   ]
  },
  {
   "cell_type": "code",
   "execution_count": 0,
   "metadata": {
    "colab": {
     "base_uri": "https://localhost:8080/",
     "height": 376
    },
    "colab_type": "code",
    "id": "4448CIcx5dT8",
    "outputId": "32aa3b23-922b-4feb-fd17-be0b7d7d26ac"
   },
   "outputs": [
    {
     "data": {
      "image/png": "[encoded data removed]",
      "text/plain": [
       "<matplotlib.figure.Figure at 0x7fb043b023c8>"
      ]
     },
     "metadata": {
      "tags": []
     },
     "output_type": "display_data"
    }
   ],
   "source": [
    "# The Most Popular Variety\n",
    "var = wine_data.groupby('variety').size().reset_index()\n",
    "var.columns = ['variety', 'count']\n",
    "var = var.sort_values('count',ascending=False)\n",
    "xpose = var['variety']\n",
    "ypose = var['count']\n",
    "# Plot bar graph\n",
    "plt.bar(range(len(xpose)), list(map(float,ypose)), align = 'center')\n",
    "plt.xticks(range(len(xpose)), xpose)\n",
    "plt.title('Variety of Wine')\n",
    "plt.xlabel('Variety')\n",
    "plt.ylabel('Frequency')\n",
    "plt.show()"
   ]
  },
  {
   "cell_type": "markdown",
   "metadata": {
    "colab_type": "text",
    "id": "LTuHARoSGESd"
   },
   "source": [
    "We've shown that there are 500 hundred different types of variety. The visualization of all types of variety is unrealistic. So now we will present the top 10 popular types of variety"
   ]
  },
  {
   "cell_type": "code",
   "execution_count": 0,
   "metadata": {
    "colab": {
     "base_uri": "https://localhost:8080/",
     "height": 349
    },
    "colab_type": "code",
    "id": "6bCc5hbIE9Ee",
    "outputId": "2b4f6d7b-3a4a-4fb1-cb5d-51cdb64b6f27"
   },
   "outputs": [
    {
     "data": {
      "image/png": "[encoded data removed]",
      "text/plain": [
       "<matplotlib.figure.Figure at 0x7fb043bc9b70>"
      ]
     },
     "metadata": {
      "tags": []
     },
     "output_type": "display_data"
    }
   ],
   "source": [
    "xpose = xpose[:10]\n",
    "ypose = ypose[:10]\n",
    "\n",
    "# Plot bar graph\n",
    "plt.figure(figsize=(15, 5))\n",
    "plt.bar(range(len(xpose)), list(map(float,ypose)))\n",
    "plt.xticks(range(len(xpose)), xpose)\n",
    "plt.title('Wines by variety')\n",
    "plt.xlabel('Variety')\n",
    "plt.ylabel('Frequency')\n",
    "plt.show()"
   ]
  },
  {
   "cell_type": "markdown",
   "metadata": {
    "colab_type": "text",
    "id": "-PhbGKAAMCxb"
   },
   "source": [
    "Variety is the type of grapes used for wine. Based on the graph above, people like the taste of pinot noir the best. So what is pinot noir and why do people like it?  Joel Fleischman once described that \" pinot noir is the most romantic of wines, with so voluptuous a perfume, so sweet an edge, and so powerful a punch that, like falling in love, they make the blood run hot and the soul wax embarrassingly poetic.\" And clicking into the following link, you will find more fun fact about pinot noir.\n",
    "https://www.vivino.com/wine-news/10-unmissable-facts-about-pinot-noir-grapes-wines"
   ]
  },
  {
   "cell_type": "markdown",
   "metadata": {
    "colab_type": "text",
    "id": "-jO6Q6z25X1h"
   },
   "source": [
    "##The Most Popular Winery"
   ]
  },
  {
   "cell_type": "code",
   "execution_count": 0,
   "metadata": {
    "colab": {
     "base_uri": "https://localhost:8080/",
     "height": 349
    },
    "colab_type": "code",
    "id": "d39p49bo5eJe",
    "outputId": "f1bde389-482c-48cc-ac98-c21f08e91082"
   },
   "outputs": [
    {
     "data": {
      "image/png": "[encoded data removed]",
      "text/plain": [
       "<matplotlib.figure.Figure at 0x7fb043bbfd30>"
      ]
     },
     "metadata": {
      "tags": []
     },
     "output_type": "display_data"
    }
   ],
   "source": [
    "# The most popular winery\n",
    "winery = wine_data.groupby('winery').size().reset_index()\n",
    "winery.columns = ['winery', 'count']\n",
    "winery = winery.sort_values('count',ascending=False)\n",
    "\n",
    "xpose = winery['winery'][:10]\n",
    "ypose = winery['count'][:10]\n",
    "\n",
    "# Plot bar graph\n",
    "plt.figure(figsize=(15, 5))\n",
    "plt.bar(range(len(xpose)), list(map(float,ypose)))\n",
    "plt.xticks(range(len(xpose)), xpose)\n",
    "plt.title('Variety of Wine')\n",
    "plt.xlabel('Variety')\n",
    "plt.ylabel('Frequency')\n",
    "plt.show()"
   ]
  },
  {
   "cell_type": "markdown",
   "metadata": {
    "colab_type": "text",
    "id": "V1nMpWViERSU"
   },
   "source": [
    "Now let's make some predictions!"
   ]
  },
  {
   "cell_type": "markdown",
   "metadata": {
    "colab_type": "text",
    "id": "tNT2aE1of4BB"
   },
   "source": [
    "#Random Forest Regression\n",
    "\n",
    "Before we begin applying any machine learning models, we're going to need to one-hot encode our data. This means converting all our categorical variables to binary (\"dummy\") variables, so that our algorithms know what to do with them! Luckily, this can be done in a single line."
   ]
  },
  {
   "cell_type": "code",
   "execution_count": 0,
   "metadata": {
    "colab": {
     "base_uri": "https://localhost:8080/",
     "height": 261
    },
    "colab_type": "code",
    "id": "ced4sh03f8C3",
    "outputId": "0fa8ad48-7a3c-443b-bb9e-43ebc11ac95b"
   },
   "outputs": [
    {
     "data": {
      "text/html": [
       "<div>\n",
       "<style scoped>\n",
       "    .dataframe tbody tr th:only-of-type {\n",
       "        vertical-align: middle;\n",
       "    }\n",
       "\n",
       "    .dataframe tbody tr th {\n",
       "        vertical-align: top;\n",
       "    }\n",
       "\n",
       "    .dataframe thead th {\n",
       "        text-align: right;\n",
       "    }\n",
       "</style>\n",
       "<table border=\"1\" class=\"dataframe\">\n",
       "  <thead>\n",
       "    <tr style=\"text-align: right;\">\n",
       "      <th></th>\n",
       "      <th>points</th>\n",
       "      <th>price</th>\n",
       "      <th>vintage</th>\n",
       "      <th>country_Argentina</th>\n",
       "      <th>country_Australia</th>\n",
       "      <th>country_Canada</th>\n",
       "      <th>country_France</th>\n",
       "      <th>country_Italy</th>\n",
       "      <th>country_Spain</th>\n",
       "      <th>country_US</th>\n",
       "      <th>...</th>\n",
       "      <th>variety_Vitovska</th>\n",
       "      <th>variety_Viura</th>\n",
       "      <th>variety_Viura-Chardonnay</th>\n",
       "      <th>variety_Viura-Verdejo</th>\n",
       "      <th>variety_White Blend</th>\n",
       "      <th>variety_White Riesling</th>\n",
       "      <th>variety_Xarel-lo</th>\n",
       "      <th>variety_Zibibbo</th>\n",
       "      <th>variety_Zinfandel</th>\n",
       "      <th>variety_Zweigelt</th>\n",
       "    </tr>\n",
       "  </thead>\n",
       "  <tbody>\n",
       "    <tr>\n",
       "      <th>2</th>\n",
       "      <td>87</td>\n",
       "      <td>14.0</td>\n",
       "      <td>2013.0</td>\n",
       "      <td>0</td>\n",
       "      <td>0</td>\n",
       "      <td>0</td>\n",
       "      <td>0</td>\n",
       "      <td>0</td>\n",
       "      <td>0</td>\n",
       "      <td>1</td>\n",
       "      <td>...</td>\n",
       "      <td>0</td>\n",
       "      <td>0</td>\n",
       "      <td>0</td>\n",
       "      <td>0</td>\n",
       "      <td>0</td>\n",
       "      <td>0</td>\n",
       "      <td>0</td>\n",
       "      <td>0</td>\n",
       "      <td>0</td>\n",
       "      <td>0</td>\n",
       "    </tr>\n",
       "    <tr>\n",
       "      <th>3</th>\n",
       "      <td>87</td>\n",
       "      <td>13.0</td>\n",
       "      <td>2013.0</td>\n",
       "      <td>0</td>\n",
       "      <td>0</td>\n",
       "      <td>0</td>\n",
       "      <td>0</td>\n",
       "      <td>0</td>\n",
       "      <td>0</td>\n",
       "      <td>1</td>\n",
       "      <td>...</td>\n",
       "      <td>0</td>\n",
       "      <td>0</td>\n",
       "      <td>0</td>\n",
       "      <td>0</td>\n",
       "      <td>0</td>\n",
       "      <td>0</td>\n",
       "      <td>0</td>\n",
       "      <td>0</td>\n",
       "      <td>0</td>\n",
       "      <td>0</td>\n",
       "    </tr>\n",
       "    <tr>\n",
       "      <th>4</th>\n",
       "      <td>87</td>\n",
       "      <td>65.0</td>\n",
       "      <td>2012.0</td>\n",
       "      <td>0</td>\n",
       "      <td>0</td>\n",
       "      <td>0</td>\n",
       "      <td>0</td>\n",
       "      <td>0</td>\n",
       "      <td>0</td>\n",
       "      <td>1</td>\n",
       "      <td>...</td>\n",
       "      <td>0</td>\n",
       "      <td>0</td>\n",
       "      <td>0</td>\n",
       "      <td>0</td>\n",
       "      <td>0</td>\n",
       "      <td>0</td>\n",
       "      <td>0</td>\n",
       "      <td>0</td>\n",
       "      <td>0</td>\n",
       "      <td>0</td>\n",
       "    </tr>\n",
       "    <tr>\n",
       "      <th>5</th>\n",
       "      <td>87</td>\n",
       "      <td>15.0</td>\n",
       "      <td>2011.0</td>\n",
       "      <td>0</td>\n",
       "      <td>0</td>\n",
       "      <td>0</td>\n",
       "      <td>0</td>\n",
       "      <td>0</td>\n",
       "      <td>1</td>\n",
       "      <td>0</td>\n",
       "      <td>...</td>\n",
       "      <td>0</td>\n",
       "      <td>0</td>\n",
       "      <td>0</td>\n",
       "      <td>0</td>\n",
       "      <td>0</td>\n",
       "      <td>0</td>\n",
       "      <td>0</td>\n",
       "      <td>0</td>\n",
       "      <td>0</td>\n",
       "      <td>0</td>\n",
       "    </tr>\n",
       "    <tr>\n",
       "      <th>6</th>\n",
       "      <td>87</td>\n",
       "      <td>16.0</td>\n",
       "      <td>2013.0</td>\n",
       "      <td>0</td>\n",
       "      <td>0</td>\n",
       "      <td>0</td>\n",
       "      <td>0</td>\n",
       "      <td>1</td>\n",
       "      <td>0</td>\n",
       "      <td>0</td>\n",
       "      <td>...</td>\n",
       "      <td>0</td>\n",
       "      <td>0</td>\n",
       "      <td>0</td>\n",
       "      <td>0</td>\n",
       "      <td>0</td>\n",
       "      <td>0</td>\n",
       "      <td>0</td>\n",
       "      <td>0</td>\n",
       "      <td>0</td>\n",
       "      <td>0</td>\n",
       "    </tr>\n",
       "  </tbody>\n",
       "</table>\n",
       "<p>5 rows × 1766 columns</p>\n",
       "</div>"
      ],
      "text/plain": [
       "   points  price  vintage  country_Argentina  country_Australia  \\\n",
       "2      87   14.0   2013.0                  0                  0   \n",
       "3      87   13.0   2013.0                  0                  0   \n",
       "4      87   65.0   2012.0                  0                  0   \n",
       "5      87   15.0   2011.0                  0                  0   \n",
       "6      87   16.0   2013.0                  0                  0   \n",
       "\n",
       "   country_Canada  country_France  country_Italy  country_Spain  country_US  \\\n",
       "2               0               0              0              0           1   \n",
       "3               0               0              0              0           1   \n",
       "4               0               0              0              0           1   \n",
       "5               0               0              0              1           0   \n",
       "6               0               0              1              0           0   \n",
       "\n",
       "         ...         variety_Vitovska  variety_Viura  \\\n",
       "2        ...                        0              0   \n",
       "3        ...                        0              0   \n",
       "4        ...                        0              0   \n",
       "5        ...                        0              0   \n",
       "6        ...                        0              0   \n",
       "\n",
       "   variety_Viura-Chardonnay  variety_Viura-Verdejo  variety_White Blend  \\\n",
       "2                         0                      0                    0   \n",
       "3                         0                      0                    0   \n",
       "4                         0                      0                    0   \n",
       "5                         0                      0                    0   \n",
       "6                         0                      0                    0   \n",
       "\n",
       "   variety_White Riesling  variety_Xarel-lo  variety_Zibibbo  \\\n",
       "2                       0                 0                0   \n",
       "3                       0                 0                0   \n",
       "4                       0                 0                0   \n",
       "5                       0                 0                0   \n",
       "6                       0                 0                0   \n",
       "\n",
       "   variety_Zinfandel  variety_Zweigelt  \n",
       "2                  0                 0  \n",
       "3                  0                 0  \n",
       "4                  0                 0  \n",
       "5                  0                 0  \n",
       "6                  0                 0  \n",
       "\n",
       "[5 rows x 1766 columns]"
      ]
     },
     "execution_count": 125,
     "metadata": {
      "tags": []
     },
     "output_type": "execute_result"
    }
   ],
   "source": [
    "# drop winery for now (too many values)\n",
    "wine_data.drop('winery', axis=1, inplace=True)\n",
    "\n",
    "# One-hot encode categorial variables\n",
    "encoded = pd.get_dummies(wine_data)\n",
    "encoded.head()\n"
   ]
  },
  {
   "cell_type": "markdown",
   "metadata": {
    "colab_type": "text",
    "id": "SVPTUgxV4P3H"
   },
   "source": [
    "We will also want to establish a baseline estimate, so we'll have something to compare our results against later. This will involve the highly scientific approach of averaging the points, then using that average as an estimate for every single wine in our dataset. If our machine learning models are unable to surpass this incredibly naive \"algorithm\", it's a sign that we need to reevaluate our approach."
   ]
  },
  {
   "cell_type": "code",
   "execution_count": 0,
   "metadata": {
    "colab": {},
    "colab_type": "code",
    "id": "TqYFOFYyAopJ"
   },
   "outputs": [],
   "source": [
    "# Calculate average score\n",
    "baseline = wine_data['points'].mean()"
   ]
  },
  {
   "cell_type": "markdown",
   "metadata": {
    "colab_type": "text",
    "id": "mcwGAfHP2D9S"
   },
   "source": [
    "Now let's try using a random forest to predict wine ratings. Random forests are known for their high accuracy, and serve as a fairly efficient way to analyze large datasets such as ours. We'll start with the default 75:25 split, with 75% of our data being used for training, and the other 25% for testing, and 100 trees. We can fine-tune these later if necessary."
   ]
  },
  {
   "cell_type": "code",
   "execution_count": 0,
   "metadata": {
    "colab": {},
    "colab_type": "code",
    "id": "uAvhMqXbmuoq"
   },
   "outputs": [],
   "source": [
    "# Split data into features (input) and labels (output)\n",
    "labels = encoded['points']\n",
    "features = np.array(encoded.drop('points', axis=1))\n",
    "\n",
    "# Split data 75:25 into train and test sets\n",
    "train_features, test_features, train_labels, test_labels = train_test_split(features, labels)\n",
    "\n",
    "# Train\n",
    "regr = RandomForestRegressor(n_estimators=100)\n",
    "regr.fit(train_features, train_labels)"
   ]
  },
  {
   "cell_type": "code",
   "execution_count": 0,
   "metadata": {
    "colab": {},
    "colab_type": "code",
    "id": "xmbIQFsSCpFd"
   },
   "outputs": [],
   "source": [
    "# test\n",
    "pred = regr.predict(test_features)\n",
    "err = mean_squared_error(test_labels, pred)\n",
    "print(err)"
   ]
  },
  {
   "cell_type": "code",
   "execution_count": 0,
   "metadata": {
    "colab": {},
    "colab_type": "code",
    "id": "n4roaQiR6l16"
   },
   "outputs": [],
   "source": [
    "# Have a general idea about how the data looks like\n",
    "wine_data.country.unique().size\n",
    "wine_data.province.unique().size\n",
    "wine_data.region_1.unique().size\n",
    "wine_data.variety.unique().size\n",
    "wine_data.winery.unique().size\n",
    "count = {'country':wine_data.country.unique().size, 'province': wine_data.province.unique().size, 'region':wine_data.region_1.unique().size,\n",
    "        'variety': wine_data.variety.unique().size, 'winery':wine_data.winery.unique().size}\n",
    "print(count)"
   ]
  },
  {
   "cell_type": "markdown",
   "metadata": {
    "colab_type": "text",
    "id": "hZBsdzOC9i5e"
   },
   "source": [
    "## **Plot Correlation Heatmap**"
   ]
  },
  {
   "cell_type": "markdown",
   "metadata": {
    "colab_type": "text",
    "id": "sUj1sp4W98ay"
   },
   "source": [
    "Since there are too many varieties and wineries. And a lot of varieties and wineries only has several reviews which has no meaning in statistics. In order to effectively train our machine learning model, we will find top ten value in each variable and group the rest of values as ''other\"."
   ]
  },
  {
   "cell_type": "code",
   "execution_count": 0,
   "metadata": {
    "colab": {},
    "colab_type": "code",
    "id": "S26CU4wy96JT"
   },
   "outputs": [],
   "source": [
    "# create a map to replace the categorical variable with their ranks. Rank 1 represents the highest freqency.\n",
    "wine_data.variety.value_counts()\n",
    "top = 50\n",
    "\n",
    "country = wine_data.country.value_counts().index[:]\n",
    "country= pd.Series([1,2,3,4,5,6,7],index = country)\n",
    "\n",
    "prov = wine_data.province.value_counts().index[0:top]\n",
    "prov= pd.Series(range(1,top+1),index = prov)\n",
    "\n",
    "region = wine_data.region_1.value_counts().index[0:top]\n",
    "region = pd.Series(range(1,top+1),index = region)\n",
    "\n",
    "variety = wine_data.variety.value_counts().index[0:top]\n",
    "variety = pd.Series(range(1,top+1),index = variety)\n",
    "\n",
    "winery = wine_data.winery.value_counts().index[0:top]\n",
    "winery = pd.Series(range(1,top+1),index = winery)\n"
   ]
  },
  {
   "cell_type": "code",
   "execution_count": 0,
   "metadata": {
    "colab": {},
    "colab_type": "code",
    "id": "WuncsFb9-EeD"
   },
   "outputs": [],
   "source": [
    "copy = wine_data.replace({'country':country, 'province':prov,'region_1':region, 'variety':variety, 'winery':winery})\n",
    "copy['province'] = pd.to_numeric(copy['province'],errors='coerce').fillna(0)\n",
    "copy['region_1'] = pd.to_numeric(copy['region_1'],errors='coerce').fillna(0)\n",
    "copy['variety'] = pd.to_numeric(copy['variety'],errors='coerce').fillna(0)\n",
    "copy['winery'] = pd.to_numeric(copy['winery'],errors='coerce').fillna(0)\n",
    "\n",
    "numeric_data =  copy.drop(['description'],axis=1)\n",
    "numeric_data.head()"
   ]
  },
  {
   "cell_type": "code",
   "execution_count": 0,
   "metadata": {
    "colab": {},
    "colab_type": "code",
    "id": "R6aBNcRZ-FYE"
   },
   "outputs": [],
   "source": [
    "# plot correlation heatmap\n",
    "wine_corr = numeric_data.corr()\n",
    "\n",
    "plt.figure(figsize=(10, 10))\n",
    "sns.heatmap(wine_corr, cbar = True,  square = True, annot=True, fmt= '.2f',annot_kws={'size': 15},\n",
    "           cmap= 'coolwarm')\n",
    "plt.title('Correlation between features');"
   ]
  },
  {
   "cell_type": "markdown",
   "metadata": {
    "colab_type": "text",
    "id": "f94wNtmT_BMz"
   },
   "source": [
    "Correlation graph above visualizes how different features correlated with each other. We can see that country and province are highly correlated. And the linearly correlated features contain redundant information. In order to increase efficiency and avoid bias, we only need one features to train the prediction model."
   ]
  }
 ],
 "metadata": {
  "colab": {
   "collapsed_sections": [],
   "name": "Copy of Final Project.ipynb",
   "provenance": [],
   "version": "0.3.2"
  },
  "kernelspec": {
   "display_name": "Python 3",
   "language": "python",
   "name": "python3"
  },
  "language_info": {
   "codemirror_mode": {
    "name": "ipython",
    "version": 3
   },
   "file_extension": ".py",
   "mimetype": "text/x-python",
   "name": "python",
   "nbconvert_exporter": "python",
   "pygments_lexer": "ipython3",
   "version": "3.6.3"
  }
 },
 "nbformat": 4,
 "nbformat_minor": 1
}
